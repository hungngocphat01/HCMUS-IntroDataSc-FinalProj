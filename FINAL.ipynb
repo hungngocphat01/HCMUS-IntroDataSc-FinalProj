{
 "cells": [
  {
   "cell_type": "markdown",
   "id": "f206698d",
   "metadata": {},
   "source": [
    "# <center>ĐỒ ÁN CUỐI KÌ: LẬP TRÌNH CHO KHOA HỌC DỮ LIỆU</center>\n",
    "\n",
    "| MSSV     | Họ và tên       \n",
    "|----------|---------------\n",
    "| 19120725  | Lê Trường Vũ \n",
    "| 19120615 | Hùng Ngọc Phát "
   ]
  },
  {
   "cell_type": "markdown",
   "id": "5d8b91f1",
   "metadata": {},
   "source": [
    "## Môi trường code"
   ]
  },
  {
   "cell_type": "code",
   "execution_count": 1,
   "id": "97864d7a",
   "metadata": {},
   "outputs": [
    {
     "data": {
      "text/plain": [
       "'/home/hellolinux/miniconda3/envs/min_ds-env/bin/python'"
      ]
     },
     "execution_count": 1,
     "metadata": {},
     "output_type": "execute_result"
    }
   ],
   "source": [
    "import sys\n",
    "sys.executable"
   ]
  },
  {
   "cell_type": "markdown",
   "id": "c3dffe26",
   "metadata": {},
   "source": [
    "---"
   ]
  },
  {
   "cell_type": "markdown",
   "id": "a41e1403",
   "metadata": {},
   "source": [
    "## Import các thư viện cần thiết"
   ]
  },
  {
   "cell_type": "code",
   "execution_count": 2,
   "id": "0a6c2501",
   "metadata": {},
   "outputs": [],
   "source": [
    "import pandas as pd\n",
    "import matplotlib.pyplot as plt\n",
    "import numpy as np\n",
    "from ast import literal_eval"
   ]
  },
  {
   "cell_type": "markdown",
   "id": "a8022928",
   "metadata": {},
   "source": [
    "---"
   ]
  },
  {
   "cell_type": "markdown",
   "id": "265db496",
   "metadata": {},
   "source": [
    "## Thu thập dữ liệu"
   ]
  },
  {
   "cell_type": "markdown",
   "id": "2666211e",
   "metadata": {},
   "source": [
    "Nhóm sẽ dùng dữ liệu đã được thu thập sẵn là file \"anime.csv\" đính kèm; Đây là bộ dữ liệu chứa những thông tin về các Anime(Hoạt hình Nhật Bản)...."
   ]
  },
  {
   "cell_type": "markdown",
   "id": "73bb3a41",
   "metadata": {},
   "source": [
    "---"
   ]
  },
  {
   "cell_type": "markdown",
   "id": "8939ae7d",
   "metadata": {},
   "source": [
    "## Khám phá dữ liệu"
   ]
  },
  {
   "cell_type": "markdown",
   "id": "a087e9e6",
   "metadata": {},
   "source": [
    "### Đọc dữ liệu từ file csv vào dataframe"
   ]
  },
  {
   "cell_type": "code",
   "execution_count": 3,
   "id": "016e7d66",
   "metadata": {},
   "outputs": [
    {
     "data": {
      "text/html": [
       "<div>\n",
       "<style scoped>\n",
       "    .dataframe tbody tr th:only-of-type {\n",
       "        vertical-align: middle;\n",
       "    }\n",
       "\n",
       "    .dataframe tbody tr th {\n",
       "        vertical-align: top;\n",
       "    }\n",
       "\n",
       "    .dataframe thead th {\n",
       "        text-align: right;\n",
       "    }\n",
       "</style>\n",
       "<table border=\"1\" class=\"dataframe\">\n",
       "  <thead>\n",
       "    <tr style=\"text-align: right;\">\n",
       "      <th></th>\n",
       "      <th>uid</th>\n",
       "      <th>title</th>\n",
       "      <th>synopsis</th>\n",
       "      <th>genre</th>\n",
       "      <th>aired</th>\n",
       "      <th>episodes</th>\n",
       "      <th>members</th>\n",
       "      <th>popularity</th>\n",
       "      <th>ranked</th>\n",
       "      <th>score</th>\n",
       "      <th>img_url</th>\n",
       "      <th>link</th>\n",
       "    </tr>\n",
       "  </thead>\n",
       "  <tbody>\n",
       "    <tr>\n",
       "      <th>0</th>\n",
       "      <td>28891</td>\n",
       "      <td>Haikyuu!! Second Season</td>\n",
       "      <td>Following their participation at the Inter-Hig...</td>\n",
       "      <td>['Comedy', 'Sports', 'Drama', 'School', 'Shoun...</td>\n",
       "      <td>Oct 4, 2015 to Mar 27, 2016</td>\n",
       "      <td>25.0</td>\n",
       "      <td>489888</td>\n",
       "      <td>141</td>\n",
       "      <td>25.0</td>\n",
       "      <td>8.82</td>\n",
       "      <td>https://cdn.myanimelist.net/images/anime/9/766...</td>\n",
       "      <td>https://myanimelist.net/anime/28891/Haikyuu_Se...</td>\n",
       "    </tr>\n",
       "    <tr>\n",
       "      <th>1</th>\n",
       "      <td>23273</td>\n",
       "      <td>Shigatsu wa Kimi no Uso</td>\n",
       "      <td>Music accompanies the path of the human metron...</td>\n",
       "      <td>['Drama', 'Music', 'Romance', 'School', 'Shoun...</td>\n",
       "      <td>Oct 10, 2014 to Mar 20, 2015</td>\n",
       "      <td>22.0</td>\n",
       "      <td>995473</td>\n",
       "      <td>28</td>\n",
       "      <td>24.0</td>\n",
       "      <td>8.83</td>\n",
       "      <td>https://cdn.myanimelist.net/images/anime/3/671...</td>\n",
       "      <td>https://myanimelist.net/anime/23273/Shigatsu_w...</td>\n",
       "    </tr>\n",
       "    <tr>\n",
       "      <th>2</th>\n",
       "      <td>34599</td>\n",
       "      <td>Made in Abyss</td>\n",
       "      <td>The Abyss—a gaping chasm stretching down into ...</td>\n",
       "      <td>['Sci-Fi', 'Adventure', 'Mystery', 'Drama', 'F...</td>\n",
       "      <td>Jul 7, 2017 to Sep 29, 2017</td>\n",
       "      <td>13.0</td>\n",
       "      <td>581663</td>\n",
       "      <td>98</td>\n",
       "      <td>23.0</td>\n",
       "      <td>8.83</td>\n",
       "      <td>https://cdn.myanimelist.net/images/anime/6/867...</td>\n",
       "      <td>https://myanimelist.net/anime/34599/Made_in_Abyss</td>\n",
       "    </tr>\n",
       "    <tr>\n",
       "      <th>3</th>\n",
       "      <td>5114</td>\n",
       "      <td>Fullmetal Alchemist: Brotherhood</td>\n",
       "      <td>\"In order for something to be obtained, someth...</td>\n",
       "      <td>['Action', 'Military', 'Adventure', 'Comedy', ...</td>\n",
       "      <td>Apr 5, 2009 to Jul 4, 2010</td>\n",
       "      <td>64.0</td>\n",
       "      <td>1615084</td>\n",
       "      <td>4</td>\n",
       "      <td>1.0</td>\n",
       "      <td>9.23</td>\n",
       "      <td>https://cdn.myanimelist.net/images/anime/1223/...</td>\n",
       "      <td>https://myanimelist.net/anime/5114/Fullmetal_A...</td>\n",
       "    </tr>\n",
       "    <tr>\n",
       "      <th>4</th>\n",
       "      <td>31758</td>\n",
       "      <td>Kizumonogatari III: Reiketsu-hen</td>\n",
       "      <td>After helping revive the legendary vampire Kis...</td>\n",
       "      <td>['Action', 'Mystery', 'Supernatural', 'Vampire']</td>\n",
       "      <td>Jan 6, 2017</td>\n",
       "      <td>1.0</td>\n",
       "      <td>214621</td>\n",
       "      <td>502</td>\n",
       "      <td>22.0</td>\n",
       "      <td>8.83</td>\n",
       "      <td>https://cdn.myanimelist.net/images/anime/3/815...</td>\n",
       "      <td>https://myanimelist.net/anime/31758/Kizumonoga...</td>\n",
       "    </tr>\n",
       "  </tbody>\n",
       "</table>\n",
       "</div>"
      ],
      "text/plain": [
       "     uid                             title  \\\n",
       "0  28891           Haikyuu!! Second Season   \n",
       "1  23273           Shigatsu wa Kimi no Uso   \n",
       "2  34599                     Made in Abyss   \n",
       "3   5114  Fullmetal Alchemist: Brotherhood   \n",
       "4  31758  Kizumonogatari III: Reiketsu-hen   \n",
       "\n",
       "                                            synopsis  \\\n",
       "0  Following their participation at the Inter-Hig...   \n",
       "1  Music accompanies the path of the human metron...   \n",
       "2  The Abyss—a gaping chasm stretching down into ...   \n",
       "3  \"In order for something to be obtained, someth...   \n",
       "4  After helping revive the legendary vampire Kis...   \n",
       "\n",
       "                                               genre  \\\n",
       "0  ['Comedy', 'Sports', 'Drama', 'School', 'Shoun...   \n",
       "1  ['Drama', 'Music', 'Romance', 'School', 'Shoun...   \n",
       "2  ['Sci-Fi', 'Adventure', 'Mystery', 'Drama', 'F...   \n",
       "3  ['Action', 'Military', 'Adventure', 'Comedy', ...   \n",
       "4   ['Action', 'Mystery', 'Supernatural', 'Vampire']   \n",
       "\n",
       "                          aired  episodes  members  popularity  ranked  score  \\\n",
       "0   Oct 4, 2015 to Mar 27, 2016      25.0   489888         141    25.0   8.82   \n",
       "1  Oct 10, 2014 to Mar 20, 2015      22.0   995473          28    24.0   8.83   \n",
       "2   Jul 7, 2017 to Sep 29, 2017      13.0   581663          98    23.0   8.83   \n",
       "3    Apr 5, 2009 to Jul 4, 2010      64.0  1615084           4     1.0   9.23   \n",
       "4                   Jan 6, 2017       1.0   214621         502    22.0   8.83   \n",
       "\n",
       "                                             img_url  \\\n",
       "0  https://cdn.myanimelist.net/images/anime/9/766...   \n",
       "1  https://cdn.myanimelist.net/images/anime/3/671...   \n",
       "2  https://cdn.myanimelist.net/images/anime/6/867...   \n",
       "3  https://cdn.myanimelist.net/images/anime/1223/...   \n",
       "4  https://cdn.myanimelist.net/images/anime/3/815...   \n",
       "\n",
       "                                                link  \n",
       "0  https://myanimelist.net/anime/28891/Haikyuu_Se...  \n",
       "1  https://myanimelist.net/anime/23273/Shigatsu_w...  \n",
       "2  https://myanimelist.net/anime/34599/Made_in_Abyss  \n",
       "3  https://myanimelist.net/anime/5114/Fullmetal_A...  \n",
       "4  https://myanimelist.net/anime/31758/Kizumonoga...  "
      ]
     },
     "execution_count": 3,
     "metadata": {},
     "output_type": "execute_result"
    }
   ],
   "source": [
    "animes_df = pd.read_csv('animes.csv')\n",
    "animes_df.head()"
   ]
  },
  {
   "cell_type": "markdown",
   "id": "806fb9d8",
   "metadata": {},
   "source": [
    "### Dữ liệu gồm có bao nhiêu dòng và bao nhiêu cột? "
   ]
  },
  {
   "cell_type": "code",
   "execution_count": 4,
   "id": "d2e20461",
   "metadata": {},
   "outputs": [
    {
     "name": "stdout",
     "output_type": "stream",
     "text": [
      "Số dòng:  19311\n",
      "Số cột:  12\n"
     ]
    }
   ],
   "source": [
    "num_cols = len(animes_df.columns)\n",
    "num_rows = len(animes_df.index)\n",
    "print('Số dòng: ',num_rows)\n",
    "print('Số cột: ',num_cols)"
   ]
  },
  {
   "cell_type": "markdown",
   "id": "1959cbfd",
   "metadata": {},
   "source": [
    "### Mỗi dòng có ý nghĩa gì? Có vấn đề các dòng có ý nghĩa khác nhau không?"
   ]
  },
  {
   "cell_type": "markdown",
   "id": "cdb9a21f",
   "metadata": {},
   "source": [
    "Theo như mô tả của dữ liệu thì một dòng cho biết thông tin của một 'Anime'. Có vẻ như không có dòng nào bị 'lạc loài'"
   ]
  },
  {
   "cell_type": "markdown",
   "id": "afe3c0cd",
   "metadata": {},
   "source": [
    "### Dữ liệu có các dòng bị lặp không? "
   ]
  },
  {
   "cell_type": "markdown",
   "id": "3e757d38",
   "metadata": {},
   "source": [
    "Nhóm sẽ kiểm tra vụ này và lưu kết quả vào biến `have_duplicated_rows`. Biến này sẽ có giá trị True nếu dữ liệu có các dòng bị lặp và có giá trị False nếu ngược."
   ]
  },
  {
   "cell_type": "code",
   "execution_count": 5,
   "id": "88c85dfb",
   "metadata": {},
   "outputs": [
    {
     "data": {
      "text/plain": [
       "False"
      ]
     },
     "execution_count": 5,
     "metadata": {},
     "output_type": "execute_result"
    }
   ],
   "source": [
    "have_duplicated_row = all(animes_df.duplicated())\n",
    "have_duplicated_row"
   ]
  },
  {
   "cell_type": "markdown",
   "id": "adc94294",
   "metadata": {},
   "source": [
    "Như vậy nghĩa là không có dòng nào bị lặp"
   ]
  },
  {
   "cell_type": "markdown",
   "id": "d6982b31",
   "metadata": {},
   "source": [
    "### Mỗi cột có ý nghĩa gì?"
   ]
  },
  {
   "cell_type": "markdown",
   "id": "2747515d",
   "metadata": {},
   "source": [
    "................................................."
   ]
  },
  {
   "cell_type": "markdown",
   "id": "b427803b",
   "metadata": {},
   "source": [
    "---"
   ]
  },
  {
   "cell_type": "markdown",
   "id": "dd89164e",
   "metadata": {},
   "source": [
    "### Mỗi cột hiện đang có kiểu dữ liệu gì? Có cột nào có kiểu dữ liệu chưa phù hợp để có thể xử lý tiếp không?"
   ]
  },
  {
   "cell_type": "markdown",
   "id": "2e99e1f8",
   "metadata": {},
   "source": [
    "`dtype` của mỗi cột trong `animes_df` sẽ lưu kết quả vào series `col_dtypes`; series này có index là tên cột."
   ]
  },
  {
   "cell_type": "code",
   "execution_count": 6,
   "id": "618cfdb3",
   "metadata": {},
   "outputs": [
    {
     "data": {
      "text/plain": [
       "uid             int64\n",
       "title          object\n",
       "synopsis       object\n",
       "genre          object\n",
       "aired          object\n",
       "episodes      float64\n",
       "members         int64\n",
       "popularity      int64\n",
       "ranked        float64\n",
       "score         float64\n",
       "img_url        object\n",
       "link           object\n",
       "dtype: object"
      ]
     },
     "execution_count": 6,
     "metadata": {},
     "output_type": "execute_result"
    }
   ],
   "source": [
    "col_dtypes = animes_df.dtypes\n",
    "col_dtypes"
   ]
  },
  {
   "cell_type": "markdown",
   "id": "600287d7",
   "metadata": {},
   "source": [
    "Như vậy `animes_df` có 6 cột có `dtype` `object` gồm: \"title\", \"synopsis\", \"genre\", \"aired\", \"img_url\", \"link\".\n",
    "Để tìm hiểu 'dtype' thật sự của các phần tử trong các cột này, nhóm viết hàm `open_object_dtype` nhận đầu vào là một cột `s` (series) có `dtype` là `object` và trả về tập các kiểu dữ liệu thật sự có trong cột này"
   ]
  },
  {
   "cell_type": "code",
   "execution_count": 7,
   "id": "0a98018e",
   "metadata": {},
   "outputs": [],
   "source": [
    "def open_object_dtype(s):\n",
    "    dtypes = set()\n",
    "    dtypes = set(s.apply(type))   \n",
    "    return dtypes"
   ]
  },
  {
   "cell_type": "code",
   "execution_count": 8,
   "id": "57544cc1",
   "metadata": {},
   "outputs": [
    {
     "name": "stdout",
     "output_type": "stream",
     "text": [
      "title:  {<class 'str'>}\n",
      "synopsis:  {<class 'str'>, <class 'float'>}\n",
      "genre:  {<class 'str'>}\n",
      "aired:  {<class 'str'>}\n",
      "img_url:  {<class 'str'>, <class 'float'>}\n",
      "link:  {<class 'str'>}\n"
     ]
    }
   ],
   "source": [
    "print('title: ',open_object_dtype(animes_df['title']))\n",
    "print('synopsis: ',open_object_dtype(animes_df['synopsis']))\n",
    "print('genre: ',open_object_dtype(animes_df['genre']))\n",
    "print('aired: ',open_object_dtype(animes_df['aired']))\n",
    "print('img_url: ',open_object_dtype(animes_df['img_url']))\n",
    "print('link: ',open_object_dtype(animes_df['link']))"
   ]
  },
  {
   "cell_type": "markdown",
   "id": "77172f9e",
   "metadata": {},
   "source": [
    "Ngoài ra ta còn có các cột `episodes`, `ranked` tuy các dữ liệu toàn là số nguyên nhưng vì có các giá trị `NaN` nên `dtype` sẽ phải là `float`"
   ]
  },
  {
   "cell_type": "markdown",
   "id": "803a8bd2",
   "metadata": {},
   "source": [
    "---"
   ]
  },
  {
   "cell_type": "markdown",
   "id": "82b018cc",
   "metadata": {},
   "source": [
    "## Tiền xử lý"
   ]
  },
  {
   "cell_type": "markdown",
   "id": "9fa3ca98",
   "metadata": {},
   "source": [
    "### Chuyển dtype của cột \"aired\" sang datetime"
   ]
  },
  {
   "cell_type": "markdown",
   "id": "83a26b04",
   "metadata": {},
   "source": [
    "Ta sẽ chia cột `aired` thành hai cột riêng nữa là `aired_from` và `aired_to`<br>\n",
    "Sau đó thì chuyển `dtype` của hai cột này sang `datetime`"
   ]
  },
  {
   "cell_type": "code",
   "execution_count": 9,
   "id": "99a71470",
   "metadata": {},
   "outputs": [],
   "source": [
    "#Tách cột aired sang 2 cột aired_from, aired_to và thêm vào animes_df\n",
    "animes_df[['aired_from', 'aired_to']] = animes_df['aired'].str.split('to', 1, expand = True)\n",
    "#Chuyển dtype sang datetime\n",
    "animes_df['aired_from'] = pd.to_datetime(animes_df['aired_from'], errors='coerce')\n",
    "animes_df['aired_to'] = pd.to_datetime(animes_df['aired_to'], errors='coerce')"
   ]
  },
  {
   "cell_type": "code",
   "execution_count": 10,
   "id": "6598a264",
   "metadata": {},
   "outputs": [
    {
     "name": "stdout",
     "output_type": "stream",
     "text": [
      "aired_from type:  datetime64[ns]\n",
      "aired_to type:  datetime64[ns]\n"
     ]
    }
   ],
   "source": [
    "print('aired_from type: ',animes_df['aired_from'].dtype)\n",
    "print('aired_to type: ', animes_df['aired_from'].dtype)"
   ]
  },
  {
   "cell_type": "markdown",
   "id": "125ee129",
   "metadata": {},
   "source": [
    "Sau khi đã tách xong thì ta sẽ xóa luôn cột `aired` do không cần thiết nữa"
   ]
  },
  {
   "cell_type": "code",
   "execution_count": 11,
   "id": "7fa2dd87",
   "metadata": {},
   "outputs": [],
   "source": [
    "del animes_df['aired']"
   ]
  },
  {
   "cell_type": "markdown",
   "id": "cd10a86f",
   "metadata": {},
   "source": [
    "### Chuyển các phần tử trong cột \"genre\" sang dạng list"
   ]
  },
  {
   "cell_type": "markdown",
   "id": "5f9102e7",
   "metadata": {},
   "source": [
    "Hiện tại thì các phần tử trong cột `anime` có dạng `str`. <br>\n",
    "Vd: \"['Comedy', 'Sports', 'Drama', 'School', 'Shounen']\""
   ]
  },
  {
   "cell_type": "code",
   "execution_count": 12,
   "id": "27eed7bd",
   "metadata": {},
   "outputs": [],
   "source": [
    "animes_df['genre'] = animes_df['genre'].apply(literal_eval)"
   ]
  },
  {
   "cell_type": "code",
   "execution_count": 13,
   "id": "6c3feb20",
   "metadata": {},
   "outputs": [
    {
     "name": "stdout",
     "output_type": "stream",
     "text": [
      "genre type:  {<class 'list'>}\n"
     ]
    }
   ],
   "source": [
    "print('genre type: ',open_object_dtype(animes_df['genre']))"
   ]
  },
  {
   "cell_type": "markdown",
   "id": "3a77c636",
   "metadata": {},
   "source": [
    "### Chuyển dtype của cột 'synopsis' và 'img_url' sang str"
   ]
  },
  {
   "cell_type": "markdown",
   "id": "94bbd79c",
   "metadata": {},
   "source": [
    "Do cả hai cột `synopsis` và `img_url` đều có giá trị \"\" nên `dtype` mới có 2 kiểu dữ liệu là `float` và `str`. <br>\n",
    "Bây giờ ta sẽ chuyển tất cả sang kiểu `str`"
   ]
  },
  {
   "cell_type": "code",
   "execution_count": 14,
   "id": "c7140c29",
   "metadata": {},
   "outputs": [],
   "source": [
    "    animes_df['synopsis'] = animes_df['synopsis'].astype(str)\n",
    "animes_df['img_url'] = animes_df['img_url'].astype(str)"
   ]
  },
  {
   "cell_type": "code",
   "execution_count": 15,
   "id": "9a74c194",
   "metadata": {},
   "outputs": [
    {
     "name": "stdout",
     "output_type": "stream",
     "text": [
      "synopsis type:  {<class 'str'>}\n",
      "img_url type:  {<class 'str'>}\n"
     ]
    }
   ],
   "source": [
    "print('synopsis type: ', open_object_dtype(animes_df['synopsis']))\n",
    "print('img_url type: ', open_object_dtype(animes_df['img_url']))"
   ]
  },
  {
   "cell_type": "markdown",
   "id": "5cc90f42",
   "metadata": {},
   "source": [
    "---"
   ]
  },
  {
   "cell_type": "markdown",
   "id": "9a61653d",
   "metadata": {},
   "source": [
    "### Với mỗi cột có kiểu dữ liệu dạng số (numerical), các giá trị được phân bố như thế nào?"
   ]
  },
  {
   "cell_type": "markdown",
   "id": "b10220ad",
   "metadata": {},
   "source": [
    "Ta sẽ xếp `aired_from` và `aired_to` vào nhóm numeric. <br>\n",
    "\n",
    "Vậy ta sẽ có 7 cột thuộc nhóm numeric: `episodes`, `members`, `popularity`, `ranked`, `score`, `aired_from` và `aired_to`<br>\n",
    "\n",
    "Với mỗi cột numeric ta sẽ tính tỉ lệ % giá trị thiếu (từ 0 đến 100), min, max. Kết quả lưu vào dataframe `nume_col_profiles_df`\n",
    "\n",
    "Dataframe này có 3 dòng là \"missing_ratio\", \"min\", \"max\" và 7 cột là `episodes`, `members`, `popularity`, `ranked`, `score`, `aired_from`, `aired_to`"
   ]
  },
  {
   "cell_type": "code",
   "execution_count": 16,
   "id": "7acaecac",
   "metadata": {},
   "outputs": [
    {
     "data": {
      "text/html": [
       "<div>\n",
       "<style scoped>\n",
       "    .dataframe tbody tr th:only-of-type {\n",
       "        vertical-align: middle;\n",
       "    }\n",
       "\n",
       "    .dataframe tbody tr th {\n",
       "        vertical-align: top;\n",
       "    }\n",
       "\n",
       "    .dataframe thead th {\n",
       "        text-align: right;\n",
       "    }\n",
       "</style>\n",
       "<table border=\"1\" class=\"dataframe\">\n",
       "  <thead>\n",
       "    <tr style=\"text-align: right;\">\n",
       "      <th></th>\n",
       "      <th>episodes</th>\n",
       "      <th>members</th>\n",
       "      <th>popularity</th>\n",
       "      <th>ranked</th>\n",
       "      <th>score</th>\n",
       "      <th>aired_from</th>\n",
       "      <th>aired_to</th>\n",
       "    </tr>\n",
       "  </thead>\n",
       "  <tbody>\n",
       "    <tr>\n",
       "      <th>missing_ratio</th>\n",
       "      <td>3.655947</td>\n",
       "      <td>0.0</td>\n",
       "      <td>0.0</td>\n",
       "      <td>16.633007</td>\n",
       "      <td>2.998291</td>\n",
       "      <td>1.926363</td>\n",
       "      <td>52.829993</td>\n",
       "    </tr>\n",
       "    <tr>\n",
       "      <th>min</th>\n",
       "      <td>1.000000</td>\n",
       "      <td>25.0</td>\n",
       "      <td>1.0</td>\n",
       "      <td>1.000000</td>\n",
       "      <td>1.250000</td>\n",
       "      <td>1917-01-01 00:00:00</td>\n",
       "      <td>1962-02-25 00:00:00</td>\n",
       "    </tr>\n",
       "    <tr>\n",
       "      <th>max</th>\n",
       "      <td>3057.000000</td>\n",
       "      <td>1871043.0</td>\n",
       "      <td>16338.0</td>\n",
       "      <td>14675.000000</td>\n",
       "      <td>9.230000</td>\n",
       "      <td>2021-01-01 00:00:00</td>\n",
       "      <td>2020-09-17 00:00:00</td>\n",
       "    </tr>\n",
       "  </tbody>\n",
       "</table>\n",
       "</div>"
      ],
      "text/plain": [
       "                  episodes    members  popularity        ranked     score  \\\n",
       "missing_ratio     3.655947        0.0         0.0     16.633007  2.998291   \n",
       "min               1.000000       25.0         1.0      1.000000  1.250000   \n",
       "max            3057.000000  1871043.0     16338.0  14675.000000  9.230000   \n",
       "\n",
       "                        aired_from             aired_to  \n",
       "missing_ratio             1.926363            52.829993  \n",
       "min            1917-01-01 00:00:00  1962-02-25 00:00:00  \n",
       "max            2021-01-01 00:00:00  2020-09-17 00:00:00  "
      ]
     },
     "execution_count": 16,
     "metadata": {},
     "output_type": "execute_result"
    }
   ],
   "source": [
    "def missing_ratio(s):\n",
    "    return s.isnull().mean()*100\n",
    "\n",
    "nume_col_profiles_df = animes_df[['episodes','members', 'popularity', 'ranked', 'score', 'aired_from', 'aired_to']].agg([missing_ratio, min, max])\n",
    "nume_col_profiles_df"
   ]
  },
  {
   "cell_type": "markdown",
   "id": "559c227c",
   "metadata": {},
   "source": [
    "---"
   ]
  },
  {
   "cell_type": "markdown",
   "id": "7b332071",
   "metadata": {},
   "source": [
    "### Với mỗi cột có kiểu dữ liệu dạng phân loại (categorical), các giá trị được phân bố như thế nào?"
   ]
  },
  {
   "cell_type": "markdown",
   "id": "7627b528",
   "metadata": {},
   "source": [
    "Ta có 5 cột thuộc nhóm categorical: `uid`, `title`, `synopsis`, `img_url`, `link`<br>\n",
    "\n",
    "Với mỗi cột categorical, bạn tính tỉ lệ % giá trị thiếu (từ 0 đến 100), số lượng giá trị khác nhau (không xét giá trị thiếu), list/array các giá trị khác nhau (không xét giá trị thiếu). Kết quả lưu vào dataframe `cate_col_profiles_df`<br>\n",
    "\n",
    "`cate_col_profiles_df` có 3 dòng là \"missing_ratio\", \"num_diff_vals\", \"diff_vals\" và 5 cột là `uid`, `title`, `synopsis`, `img_url`, `link`"
   ]
  },
  {
   "cell_type": "code",
   "execution_count": 17,
   "id": "2937f2f5",
   "metadata": {},
   "outputs": [],
   "source": [
    "def missing_ratio(s):\n",
    "    return s.isna().mean()*100\n",
    "def num_diff_vals(s):\n",
    "    return s.nunique()\n",
    "def diff_vals(s):\n",
    "    return s.dropna().unique()\n",
    "cate_col_profiles_df = animes_df[['uid', 'title', 'synopsis', 'img_url', 'link']].agg([missing_ratio, num_diff_vals, diff_vals])"
   ]
  },
  {
   "cell_type": "code",
   "execution_count": 18,
   "id": "d4afbcb7",
   "metadata": {},
   "outputs": [
    {
     "data": {
      "text/html": [
       "<div>\n",
       "<style scoped>\n",
       "    .dataframe tbody tr th:only-of-type {\n",
       "        vertical-align: middle;\n",
       "    }\n",
       "\n",
       "    .dataframe tbody tr th {\n",
       "        vertical-align: top;\n",
       "    }\n",
       "\n",
       "    .dataframe thead th {\n",
       "        text-align: right;\n",
       "    }\n",
       "</style>\n",
       "<table border=\"1\" class=\"dataframe\">\n",
       "  <thead>\n",
       "    <tr style=\"text-align: right;\">\n",
       "      <th></th>\n",
       "      <th>uid</th>\n",
       "      <th>title</th>\n",
       "      <th>synopsis</th>\n",
       "      <th>img_url</th>\n",
       "      <th>link</th>\n",
       "    </tr>\n",
       "  </thead>\n",
       "  <tbody>\n",
       "    <tr>\n",
       "      <th>missing_ratio</th>\n",
       "      <td>0.0</td>\n",
       "      <td>0.0</td>\n",
       "      <td>0.0</td>\n",
       "      <td>0.0</td>\n",
       "      <td>0.0</td>\n",
       "    </tr>\n",
       "    <tr>\n",
       "      <th>num_diff_vals</th>\n",
       "      <td>16216</td>\n",
       "      <td>16214</td>\n",
       "      <td>15195</td>\n",
       "      <td>16052</td>\n",
       "      <td>16216</td>\n",
       "    </tr>\n",
       "    <tr>\n",
       "      <th>diff_vals</th>\n",
       "      <td>[28891, 23273, 34599, 5114, 31758, 37510, 199,...</td>\n",
       "      <td>[Haikyuu!! Second Season, Shigatsu wa Kimi no ...</td>\n",
       "      <td>[Following their participation at the Inter-Hi...</td>\n",
       "      <td>[https://cdn.myanimelist.net/images/anime/9/76...</td>\n",
       "      <td>[https://myanimelist.net/anime/28891/Haikyuu_S...</td>\n",
       "    </tr>\n",
       "  </tbody>\n",
       "</table>\n",
       "</div>"
      ],
      "text/plain": [
       "                                                             uid  \\\n",
       "missing_ratio                                                0.0   \n",
       "num_diff_vals                                              16216   \n",
       "diff_vals      [28891, 23273, 34599, 5114, 31758, 37510, 199,...   \n",
       "\n",
       "                                                           title  \\\n",
       "missing_ratio                                                0.0   \n",
       "num_diff_vals                                              16214   \n",
       "diff_vals      [Haikyuu!! Second Season, Shigatsu wa Kimi no ...   \n",
       "\n",
       "                                                        synopsis  \\\n",
       "missing_ratio                                                0.0   \n",
       "num_diff_vals                                              15195   \n",
       "diff_vals      [Following their participation at the Inter-Hi...   \n",
       "\n",
       "                                                         img_url  \\\n",
       "missing_ratio                                                0.0   \n",
       "num_diff_vals                                              16052   \n",
       "diff_vals      [https://cdn.myanimelist.net/images/anime/9/76...   \n",
       "\n",
       "                                                            link  \n",
       "missing_ratio                                                0.0  \n",
       "num_diff_vals                                              16216  \n",
       "diff_vals      [https://myanimelist.net/anime/28891/Haikyuu_S...  "
      ]
     },
     "execution_count": 18,
     "metadata": {},
     "output_type": "execute_result"
    }
   ],
   "source": [
    "cate_col_profiles_df"
   ]
  },
  {
   "cell_type": "markdown",
   "id": "3f7b53d0",
   "metadata": {},
   "source": [
    "Như vậy không có cột nào có giá trị thiếu...không có điều gì bất thường"
   ]
  },
  {
   "cell_type": "code",
   "execution_count": 19,
   "id": "a75eac1d",
   "metadata": {},
   "outputs": [
    {
     "data": {
      "text/html": [
       "<div>\n",
       "<style scoped>\n",
       "    .dataframe tbody tr th:only-of-type {\n",
       "        vertical-align: middle;\n",
       "    }\n",
       "\n",
       "    .dataframe tbody tr th {\n",
       "        vertical-align: top;\n",
       "    }\n",
       "\n",
       "    .dataframe thead th {\n",
       "        text-align: right;\n",
       "    }\n",
       "</style>\n",
       "<table border=\"1\" class=\"dataframe\">\n",
       "  <thead>\n",
       "    <tr style=\"text-align: right;\">\n",
       "      <th></th>\n",
       "      <th>uid</th>\n",
       "      <th>title</th>\n",
       "      <th>synopsis</th>\n",
       "      <th>genre</th>\n",
       "      <th>episodes</th>\n",
       "      <th>members</th>\n",
       "      <th>popularity</th>\n",
       "      <th>ranked</th>\n",
       "      <th>score</th>\n",
       "      <th>img_url</th>\n",
       "      <th>link</th>\n",
       "      <th>aired_from</th>\n",
       "      <th>aired_to</th>\n",
       "    </tr>\n",
       "  </thead>\n",
       "  <tbody>\n",
       "    <tr>\n",
       "      <th>0</th>\n",
       "      <td>28891</td>\n",
       "      <td>Haikyuu!! Second Season</td>\n",
       "      <td>Following their participation at the Inter-Hig...</td>\n",
       "      <td>[Comedy, Sports, Drama, School, Shounen]</td>\n",
       "      <td>25.0</td>\n",
       "      <td>489888</td>\n",
       "      <td>141</td>\n",
       "      <td>25.0</td>\n",
       "      <td>8.82</td>\n",
       "      <td>https://cdn.myanimelist.net/images/anime/9/766...</td>\n",
       "      <td>https://myanimelist.net/anime/28891/Haikyuu_Se...</td>\n",
       "      <td>2015-10-04</td>\n",
       "      <td>2016-03-27</td>\n",
       "    </tr>\n",
       "    <tr>\n",
       "      <th>1</th>\n",
       "      <td>23273</td>\n",
       "      <td>Shigatsu wa Kimi no Uso</td>\n",
       "      <td>Music accompanies the path of the human metron...</td>\n",
       "      <td>[Drama, Music, Romance, School, Shounen]</td>\n",
       "      <td>22.0</td>\n",
       "      <td>995473</td>\n",
       "      <td>28</td>\n",
       "      <td>24.0</td>\n",
       "      <td>8.83</td>\n",
       "      <td>https://cdn.myanimelist.net/images/anime/3/671...</td>\n",
       "      <td>https://myanimelist.net/anime/23273/Shigatsu_w...</td>\n",
       "      <td>2014-10-10</td>\n",
       "      <td>2015-03-20</td>\n",
       "    </tr>\n",
       "    <tr>\n",
       "      <th>2</th>\n",
       "      <td>34599</td>\n",
       "      <td>Made in Abyss</td>\n",
       "      <td>The Abyss—a gaping chasm stretching down into ...</td>\n",
       "      <td>[Sci-Fi, Adventure, Mystery, Drama, Fantasy]</td>\n",
       "      <td>13.0</td>\n",
       "      <td>581663</td>\n",
       "      <td>98</td>\n",
       "      <td>23.0</td>\n",
       "      <td>8.83</td>\n",
       "      <td>https://cdn.myanimelist.net/images/anime/6/867...</td>\n",
       "      <td>https://myanimelist.net/anime/34599/Made_in_Abyss</td>\n",
       "      <td>2017-07-07</td>\n",
       "      <td>2017-09-29</td>\n",
       "    </tr>\n",
       "    <tr>\n",
       "      <th>3</th>\n",
       "      <td>5114</td>\n",
       "      <td>Fullmetal Alchemist: Brotherhood</td>\n",
       "      <td>\"In order for something to be obtained, someth...</td>\n",
       "      <td>[Action, Military, Adventure, Comedy, Drama, M...</td>\n",
       "      <td>64.0</td>\n",
       "      <td>1615084</td>\n",
       "      <td>4</td>\n",
       "      <td>1.0</td>\n",
       "      <td>9.23</td>\n",
       "      <td>https://cdn.myanimelist.net/images/anime/1223/...</td>\n",
       "      <td>https://myanimelist.net/anime/5114/Fullmetal_A...</td>\n",
       "      <td>2009-04-05</td>\n",
       "      <td>2010-07-04</td>\n",
       "    </tr>\n",
       "    <tr>\n",
       "      <th>4</th>\n",
       "      <td>31758</td>\n",
       "      <td>Kizumonogatari III: Reiketsu-hen</td>\n",
       "      <td>After helping revive the legendary vampire Kis...</td>\n",
       "      <td>[Action, Mystery, Supernatural, Vampire]</td>\n",
       "      <td>1.0</td>\n",
       "      <td>214621</td>\n",
       "      <td>502</td>\n",
       "      <td>22.0</td>\n",
       "      <td>8.83</td>\n",
       "      <td>https://cdn.myanimelist.net/images/anime/3/815...</td>\n",
       "      <td>https://myanimelist.net/anime/31758/Kizumonoga...</td>\n",
       "      <td>2017-01-06</td>\n",
       "      <td>NaT</td>\n",
       "    </tr>\n",
       "    <tr>\n",
       "      <th>...</th>\n",
       "      <td>...</td>\n",
       "      <td>...</td>\n",
       "      <td>...</td>\n",
       "      <td>...</td>\n",
       "      <td>...</td>\n",
       "      <td>...</td>\n",
       "      <td>...</td>\n",
       "      <td>...</td>\n",
       "      <td>...</td>\n",
       "      <td>...</td>\n",
       "      <td>...</td>\n",
       "      <td>...</td>\n",
       "      <td>...</td>\n",
       "    </tr>\n",
       "    <tr>\n",
       "      <th>19306</th>\n",
       "      <td>32979</td>\n",
       "      <td>Flip Flappers</td>\n",
       "      <td>Cocona is an average middle schooler living wi...</td>\n",
       "      <td>[Sci-Fi, Adventure, Comedy, Magic]</td>\n",
       "      <td>13.0</td>\n",
       "      <td>134252</td>\n",
       "      <td>843</td>\n",
       "      <td>1070.0</td>\n",
       "      <td>7.73</td>\n",
       "      <td>https://cdn.myanimelist.net/images/anime/4/822...</td>\n",
       "      <td>https://myanimelist.net/anime/32979/Flip_Flappers</td>\n",
       "      <td>2016-10-06</td>\n",
       "      <td>2016-12-29</td>\n",
       "    </tr>\n",
       "    <tr>\n",
       "      <th>19307</th>\n",
       "      <td>123</td>\n",
       "      <td>Fushigi Yuugi</td>\n",
       "      <td>While visiting the National Library, junior-hi...</td>\n",
       "      <td>[Adventure, Fantasy, Magic, Martial Arts, Come...</td>\n",
       "      <td>52.0</td>\n",
       "      <td>84407</td>\n",
       "      <td>1292</td>\n",
       "      <td>1071.0</td>\n",
       "      <td>7.73</td>\n",
       "      <td>https://cdn.myanimelist.net/images/anime/2/201...</td>\n",
       "      <td>https://myanimelist.net/anime/123/Fushigi_Yuugi</td>\n",
       "      <td>1995-04-06</td>\n",
       "      <td>1996-03-28</td>\n",
       "    </tr>\n",
       "    <tr>\n",
       "      <th>19308</th>\n",
       "      <td>1281</td>\n",
       "      <td>Gakkou no Kaidan</td>\n",
       "      <td>Years ago, all of the ghosts in a haunted scho...</td>\n",
       "      <td>[Mystery, Horror, Supernatural]</td>\n",
       "      <td>19.0</td>\n",
       "      <td>83093</td>\n",
       "      <td>1314</td>\n",
       "      <td>1073.0</td>\n",
       "      <td>7.73</td>\n",
       "      <td>https://cdn.myanimelist.net/images/anime/9/183...</td>\n",
       "      <td>https://myanimelist.net/anime/1281/Gakkou_no_K...</td>\n",
       "      <td>2000-10-22</td>\n",
       "      <td>2001-03-25</td>\n",
       "    </tr>\n",
       "    <tr>\n",
       "      <th>19309</th>\n",
       "      <td>450</td>\n",
       "      <td>InuYasha Movie 2: Kagami no Naka no Mugenjo</td>\n",
       "      <td>Inuyasha and company have finally destroyed Na...</td>\n",
       "      <td>[Action, Adventure, Comedy, Historical, Demons...</td>\n",
       "      <td>1.0</td>\n",
       "      <td>71989</td>\n",
       "      <td>1469</td>\n",
       "      <td>1077.0</td>\n",
       "      <td>7.73</td>\n",
       "      <td>https://cdn.myanimelist.net/images/anime/1162/...</td>\n",
       "      <td>https://myanimelist.net/anime/450/InuYasha_Mov...</td>\n",
       "      <td>2002-12-21</td>\n",
       "      <td>NaT</td>\n",
       "    </tr>\n",
       "    <tr>\n",
       "      <th>19310</th>\n",
       "      <td>87</td>\n",
       "      <td>Mobile Suit Gundam: Char's Counterattack</td>\n",
       "      <td>The year is Universal Century 0093. Char Aznab...</td>\n",
       "      <td>[Military, Sci-Fi, Space, Drama, Mecha]</td>\n",
       "      <td>1.0</td>\n",
       "      <td>29248</td>\n",
       "      <td>2604</td>\n",
       "      <td>1081.0</td>\n",
       "      <td>7.73</td>\n",
       "      <td>https://cdn.myanimelist.net/images/anime/1523/...</td>\n",
       "      <td>https://myanimelist.net/anime/87/Mobile_Suit_G...</td>\n",
       "      <td>1988-03-12</td>\n",
       "      <td>NaT</td>\n",
       "    </tr>\n",
       "  </tbody>\n",
       "</table>\n",
       "<p>19311 rows × 13 columns</p>\n",
       "</div>"
      ],
      "text/plain": [
       "         uid                                        title  \\\n",
       "0      28891                      Haikyuu!! Second Season   \n",
       "1      23273                      Shigatsu wa Kimi no Uso   \n",
       "2      34599                                Made in Abyss   \n",
       "3       5114             Fullmetal Alchemist: Brotherhood   \n",
       "4      31758             Kizumonogatari III: Reiketsu-hen   \n",
       "...      ...                                          ...   \n",
       "19306  32979                                Flip Flappers   \n",
       "19307    123                                Fushigi Yuugi   \n",
       "19308   1281                             Gakkou no Kaidan   \n",
       "19309    450  InuYasha Movie 2: Kagami no Naka no Mugenjo   \n",
       "19310     87     Mobile Suit Gundam: Char's Counterattack   \n",
       "\n",
       "                                                synopsis  \\\n",
       "0      Following their participation at the Inter-Hig...   \n",
       "1      Music accompanies the path of the human metron...   \n",
       "2      The Abyss—a gaping chasm stretching down into ...   \n",
       "3      \"In order for something to be obtained, someth...   \n",
       "4      After helping revive the legendary vampire Kis...   \n",
       "...                                                  ...   \n",
       "19306  Cocona is an average middle schooler living wi...   \n",
       "19307  While visiting the National Library, junior-hi...   \n",
       "19308  Years ago, all of the ghosts in a haunted scho...   \n",
       "19309  Inuyasha and company have finally destroyed Na...   \n",
       "19310  The year is Universal Century 0093. Char Aznab...   \n",
       "\n",
       "                                                   genre  episodes  members  \\\n",
       "0               [Comedy, Sports, Drama, School, Shounen]      25.0   489888   \n",
       "1               [Drama, Music, Romance, School, Shounen]      22.0   995473   \n",
       "2           [Sci-Fi, Adventure, Mystery, Drama, Fantasy]      13.0   581663   \n",
       "3      [Action, Military, Adventure, Comedy, Drama, M...      64.0  1615084   \n",
       "4               [Action, Mystery, Supernatural, Vampire]       1.0   214621   \n",
       "...                                                  ...       ...      ...   \n",
       "19306                 [Sci-Fi, Adventure, Comedy, Magic]      13.0   134252   \n",
       "19307  [Adventure, Fantasy, Magic, Martial Arts, Come...      52.0    84407   \n",
       "19308                    [Mystery, Horror, Supernatural]      19.0    83093   \n",
       "19309  [Action, Adventure, Comedy, Historical, Demons...       1.0    71989   \n",
       "19310            [Military, Sci-Fi, Space, Drama, Mecha]       1.0    29248   \n",
       "\n",
       "       popularity  ranked  score  \\\n",
       "0             141    25.0   8.82   \n",
       "1              28    24.0   8.83   \n",
       "2              98    23.0   8.83   \n",
       "3               4     1.0   9.23   \n",
       "4             502    22.0   8.83   \n",
       "...           ...     ...    ...   \n",
       "19306         843  1070.0   7.73   \n",
       "19307        1292  1071.0   7.73   \n",
       "19308        1314  1073.0   7.73   \n",
       "19309        1469  1077.0   7.73   \n",
       "19310        2604  1081.0   7.73   \n",
       "\n",
       "                                                 img_url  \\\n",
       "0      https://cdn.myanimelist.net/images/anime/9/766...   \n",
       "1      https://cdn.myanimelist.net/images/anime/3/671...   \n",
       "2      https://cdn.myanimelist.net/images/anime/6/867...   \n",
       "3      https://cdn.myanimelist.net/images/anime/1223/...   \n",
       "4      https://cdn.myanimelist.net/images/anime/3/815...   \n",
       "...                                                  ...   \n",
       "19306  https://cdn.myanimelist.net/images/anime/4/822...   \n",
       "19307  https://cdn.myanimelist.net/images/anime/2/201...   \n",
       "19308  https://cdn.myanimelist.net/images/anime/9/183...   \n",
       "19309  https://cdn.myanimelist.net/images/anime/1162/...   \n",
       "19310  https://cdn.myanimelist.net/images/anime/1523/...   \n",
       "\n",
       "                                                    link aired_from   aired_to  \n",
       "0      https://myanimelist.net/anime/28891/Haikyuu_Se... 2015-10-04 2016-03-27  \n",
       "1      https://myanimelist.net/anime/23273/Shigatsu_w... 2014-10-10 2015-03-20  \n",
       "2      https://myanimelist.net/anime/34599/Made_in_Abyss 2017-07-07 2017-09-29  \n",
       "3      https://myanimelist.net/anime/5114/Fullmetal_A... 2009-04-05 2010-07-04  \n",
       "4      https://myanimelist.net/anime/31758/Kizumonoga... 2017-01-06        NaT  \n",
       "...                                                  ...        ...        ...  \n",
       "19306  https://myanimelist.net/anime/32979/Flip_Flappers 2016-10-06 2016-12-29  \n",
       "19307    https://myanimelist.net/anime/123/Fushigi_Yuugi 1995-04-06 1996-03-28  \n",
       "19308  https://myanimelist.net/anime/1281/Gakkou_no_K... 2000-10-22 2001-03-25  \n",
       "19309  https://myanimelist.net/anime/450/InuYasha_Mov... 2002-12-21        NaT  \n",
       "19310  https://myanimelist.net/anime/87/Mobile_Suit_G... 1988-03-12        NaT  \n",
       "\n",
       "[19311 rows x 13 columns]"
      ]
     },
     "execution_count": 19,
     "metadata": {},
     "output_type": "execute_result"
    }
   ],
   "source": [
    "animes_df"
   ]
  },
  {
   "cell_type": "markdown",
   "id": "ccb83cbf",
   "metadata": {},
   "source": [
    "---"
   ]
  },
  {
   "cell_type": "markdown",
   "id": "c5471188",
   "metadata": {},
   "source": [
    "## C. ĐẶT CÂU HỎI\n"
   ]
  },
  {
   "cell_type": "markdown",
   "id": "254b9517",
   "metadata": {},
   "source": [
    "- **Câu 1:** Thể loại nào có nhiều anime nhất \n",
    "- **Câu 2:** Số lượng anime được phát sóng qua các năm\n",
    "- **Câu 3:** Top 10 thể loại nào có nhiều người xem nhất\n",
    "- **Câu 4:** Các thể loại nào xuất hiện cùng nhau nhất\n",
    "- **Câu 5:** "
   ]
  },
  {
   "cell_type": "code",
   "execution_count": 22,
   "id": "abda9576",
   "metadata": {},
   "outputs": [
    {
     "data": {
      "text/html": [
       "<div>\n",
       "<style scoped>\n",
       "    .dataframe tbody tr th:only-of-type {\n",
       "        vertical-align: middle;\n",
       "    }\n",
       "\n",
       "    .dataframe tbody tr th {\n",
       "        vertical-align: top;\n",
       "    }\n",
       "\n",
       "    .dataframe thead th {\n",
       "        text-align: right;\n",
       "    }\n",
       "</style>\n",
       "<table border=\"1\" class=\"dataframe\">\n",
       "  <thead>\n",
       "    <tr style=\"text-align: right;\">\n",
       "      <th></th>\n",
       "      <th>uid</th>\n",
       "      <th>title</th>\n",
       "      <th>synopsis</th>\n",
       "      <th>genre</th>\n",
       "      <th>episodes</th>\n",
       "      <th>members</th>\n",
       "      <th>popularity</th>\n",
       "      <th>ranked</th>\n",
       "      <th>score</th>\n",
       "      <th>img_url</th>\n",
       "      <th>link</th>\n",
       "      <th>aired_from</th>\n",
       "      <th>aired_to</th>\n",
       "    </tr>\n",
       "  </thead>\n",
       "  <tbody>\n",
       "    <tr>\n",
       "      <th>0</th>\n",
       "      <td>28891</td>\n",
       "      <td>Haikyuu!! Second Season</td>\n",
       "      <td>Following their participation at the Inter-Hig...</td>\n",
       "      <td>[Comedy, Sports, Drama, School, Shounen]</td>\n",
       "      <td>25.0</td>\n",
       "      <td>489888</td>\n",
       "      <td>141</td>\n",
       "      <td>25.0</td>\n",
       "      <td>8.82</td>\n",
       "      <td>https://cdn.myanimelist.net/images/anime/9/766...</td>\n",
       "      <td>https://myanimelist.net/anime/28891/Haikyuu_Se...</td>\n",
       "      <td>2015-10-04</td>\n",
       "      <td>2016-03-27</td>\n",
       "    </tr>\n",
       "    <tr>\n",
       "      <th>1</th>\n",
       "      <td>23273</td>\n",
       "      <td>Shigatsu wa Kimi no Uso</td>\n",
       "      <td>Music accompanies the path of the human metron...</td>\n",
       "      <td>[Drama, Music, Romance, School, Shounen]</td>\n",
       "      <td>22.0</td>\n",
       "      <td>995473</td>\n",
       "      <td>28</td>\n",
       "      <td>24.0</td>\n",
       "      <td>8.83</td>\n",
       "      <td>https://cdn.myanimelist.net/images/anime/3/671...</td>\n",
       "      <td>https://myanimelist.net/anime/23273/Shigatsu_w...</td>\n",
       "      <td>2014-10-10</td>\n",
       "      <td>2015-03-20</td>\n",
       "    </tr>\n",
       "    <tr>\n",
       "      <th>2</th>\n",
       "      <td>34599</td>\n",
       "      <td>Made in Abyss</td>\n",
       "      <td>The Abyss—a gaping chasm stretching down into ...</td>\n",
       "      <td>[Sci-Fi, Adventure, Mystery, Drama, Fantasy]</td>\n",
       "      <td>13.0</td>\n",
       "      <td>581663</td>\n",
       "      <td>98</td>\n",
       "      <td>23.0</td>\n",
       "      <td>8.83</td>\n",
       "      <td>https://cdn.myanimelist.net/images/anime/6/867...</td>\n",
       "      <td>https://myanimelist.net/anime/34599/Made_in_Abyss</td>\n",
       "      <td>2017-07-07</td>\n",
       "      <td>2017-09-29</td>\n",
       "    </tr>\n",
       "    <tr>\n",
       "      <th>3</th>\n",
       "      <td>5114</td>\n",
       "      <td>Fullmetal Alchemist: Brotherhood</td>\n",
       "      <td>\"In order for something to be obtained, someth...</td>\n",
       "      <td>[Action, Military, Adventure, Comedy, Drama, M...</td>\n",
       "      <td>64.0</td>\n",
       "      <td>1615084</td>\n",
       "      <td>4</td>\n",
       "      <td>1.0</td>\n",
       "      <td>9.23</td>\n",
       "      <td>https://cdn.myanimelist.net/images/anime/1223/...</td>\n",
       "      <td>https://myanimelist.net/anime/5114/Fullmetal_A...</td>\n",
       "      <td>2009-04-05</td>\n",
       "      <td>2010-07-04</td>\n",
       "    </tr>\n",
       "    <tr>\n",
       "      <th>4</th>\n",
       "      <td>31758</td>\n",
       "      <td>Kizumonogatari III: Reiketsu-hen</td>\n",
       "      <td>After helping revive the legendary vampire Kis...</td>\n",
       "      <td>[Action, Mystery, Supernatural, Vampire]</td>\n",
       "      <td>1.0</td>\n",
       "      <td>214621</td>\n",
       "      <td>502</td>\n",
       "      <td>22.0</td>\n",
       "      <td>8.83</td>\n",
       "      <td>https://cdn.myanimelist.net/images/anime/3/815...</td>\n",
       "      <td>https://myanimelist.net/anime/31758/Kizumonoga...</td>\n",
       "      <td>2017-01-06</td>\n",
       "      <td>NaT</td>\n",
       "    </tr>\n",
       "  </tbody>\n",
       "</table>\n",
       "</div>"
      ],
      "text/plain": [
       "     uid                             title  \\\n",
       "0  28891           Haikyuu!! Second Season   \n",
       "1  23273           Shigatsu wa Kimi no Uso   \n",
       "2  34599                     Made in Abyss   \n",
       "3   5114  Fullmetal Alchemist: Brotherhood   \n",
       "4  31758  Kizumonogatari III: Reiketsu-hen   \n",
       "\n",
       "                                            synopsis  \\\n",
       "0  Following their participation at the Inter-Hig...   \n",
       "1  Music accompanies the path of the human metron...   \n",
       "2  The Abyss—a gaping chasm stretching down into ...   \n",
       "3  \"In order for something to be obtained, someth...   \n",
       "4  After helping revive the legendary vampire Kis...   \n",
       "\n",
       "                                               genre  episodes  members  \\\n",
       "0           [Comedy, Sports, Drama, School, Shounen]      25.0   489888   \n",
       "1           [Drama, Music, Romance, School, Shounen]      22.0   995473   \n",
       "2       [Sci-Fi, Adventure, Mystery, Drama, Fantasy]      13.0   581663   \n",
       "3  [Action, Military, Adventure, Comedy, Drama, M...      64.0  1615084   \n",
       "4           [Action, Mystery, Supernatural, Vampire]       1.0   214621   \n",
       "\n",
       "   popularity  ranked  score  \\\n",
       "0         141    25.0   8.82   \n",
       "1          28    24.0   8.83   \n",
       "2          98    23.0   8.83   \n",
       "3           4     1.0   9.23   \n",
       "4         502    22.0   8.83   \n",
       "\n",
       "                                             img_url  \\\n",
       "0  https://cdn.myanimelist.net/images/anime/9/766...   \n",
       "1  https://cdn.myanimelist.net/images/anime/3/671...   \n",
       "2  https://cdn.myanimelist.net/images/anime/6/867...   \n",
       "3  https://cdn.myanimelist.net/images/anime/1223/...   \n",
       "4  https://cdn.myanimelist.net/images/anime/3/815...   \n",
       "\n",
       "                                                link aired_from   aired_to  \n",
       "0  https://myanimelist.net/anime/28891/Haikyuu_Se... 2015-10-04 2016-03-27  \n",
       "1  https://myanimelist.net/anime/23273/Shigatsu_w... 2014-10-10 2015-03-20  \n",
       "2  https://myanimelist.net/anime/34599/Made_in_Abyss 2017-07-07 2017-09-29  \n",
       "3  https://myanimelist.net/anime/5114/Fullmetal_A... 2009-04-05 2010-07-04  \n",
       "4  https://myanimelist.net/anime/31758/Kizumonoga... 2017-01-06        NaT  "
      ]
     },
     "execution_count": 22,
     "metadata": {},
     "output_type": "execute_result"
    }
   ],
   "source": [
    "animes_df.head()"
   ]
  }
 ],
 "metadata": {
  "kernelspec": {
   "display_name": "Python 3 (ipykernel)",
   "language": "python",
   "name": "python3"
  },
  "language_info": {
   "codemirror_mode": {
    "name": "ipython",
    "version": 3
   },
   "file_extension": ".py",
   "mimetype": "text/x-python",
   "name": "python",
   "nbconvert_exporter": "python",
   "pygments_lexer": "ipython3",
   "version": "3.8.8"
  }
 },
 "nbformat": 4,
 "nbformat_minor": 5
}
